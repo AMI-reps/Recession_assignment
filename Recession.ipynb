{
 "cells": [
  {
   "cell_type": "markdown",
   "metadata": {},
   "source": [
    "---\n",
    "\n",
    "_You are currently looking at **version 1.1** of this notebook. To download notebooks and datafiles, as well as get help on Jupyter notebooks in the Coursera platform, visit the [Jupyter Notebook FAQ](https://www.coursera.org/learn/python-data-analysis/resources/0dhYG) course resource._\n",
    "\n",
    "---"
   ]
  },
  {
   "cell_type": "markdown",
   "metadata": {},
   "source": [
    "# Assignment 4 - Hypothesis Testing\n",
    "This assignment requires more individual learning than previous assignments - you are encouraged to check out the [pandas documentation](http://pandas.pydata.org/pandas-docs/stable/) to find functions or methods you might not have used yet, or ask questions on [Stack Overflow](http://stackoverflow.com/) and tag them as pandas and python related. And of course, the discussion forums are open for interaction with your peers and the course staff.\n",
    "\n",
    "Definitions:\n",
    "* A _quarter_ is a specific three month period, Q1 is January through March, Q2 is April through June, Q3 is July through September, Q4 is October through December.\n",
    "* A _recession_ is defined as starting with two consecutive quarters of GDP decline, and ending with two consecutive quarters of GDP growth.\n",
    "* A _recession bottom_ is the quarter within a recession which had the lowest GDP.\n",
    "* A _university town_ is a city which has a high percentage of university students compared to the total population of the city.\n",
    "\n",
    "**Hypothesis**: University towns have their mean housing prices less effected by recessions. Run a t-test to compare the ratio of the mean price of houses in university towns the quarter before the recession starts compared to the recession bottom. (`price_ratio=quarter_before_recession/recession_bottom`)\n",
    "\n",
    "The following data files are available for this assignment:\n",
    "* From the [Zillow research data site](http://www.zillow.com/research/data/) there is housing data for the United States. In particular the datafile for [all homes at a city level](http://files.zillowstatic.com/research/public/City/City_Zhvi_AllHomes.csv), ```City_Zhvi_AllHomes.csv```, has median home sale prices at a fine grained level.\n",
    "* From the Wikipedia page on college towns is a list of [university towns in the United States](https://en.wikipedia.org/wiki/List_of_college_towns#College_towns_in_the_United_States) which has been copy and pasted into the file ```university_towns.txt```.\n",
    "* From Bureau of Economic Analysis, US Department of Commerce, the [GDP over time](http://www.bea.gov/national/index.htm#gdp) of the United States in current dollars (use the chained value in 2009 dollars), in quarterly intervals, in the file ```gdplev.xls```. For this assignment, only look at GDP data from the first quarter of 2000 onward.\n",
    "\n",
    "Each function in this assignment below is worth 10%, with the exception of ```run_ttest()```, which is worth 50%."
   ]
  },
  {
   "cell_type": "code",
   "execution_count": 1,
   "metadata": {},
   "outputs": [],
   "source": [
    "import pandas as pd\n",
    "import numpy as np\n",
    "import matplotlib.pyplot as pp\n",
    "from scipy.stats import ttest_ind\n",
    "import datetime as dt\n",
    "import time as tm\n",
    "from scipy import stats\n"
   ]
  },
  {
   "cell_type": "code",
   "execution_count": 4,
   "metadata": {},
   "outputs": [],
   "source": [
    "# load homes\n",
    "all_homes = pd.read_csv(\"City_Zhvi_AllHomes.csv\")\n",
    "# Use this dictionary to map state names to two letter acronyms\n",
    "states = {'OH': 'Ohio', 'KY': 'Kentucky', 'AS': 'American Samoa', 'NV': 'Nevada', 'WY': 'Wyoming', 'NA': 'National', 'AL': 'Alabama', 'MD': 'Maryland', 'AK': 'Alaska', 'UT': 'Utah', 'OR': 'Oregon', 'MT': 'Montana', 'IL': 'Illinois', 'TN': 'Tennessee', 'DC': 'District of Columbia', 'VT': 'Vermont', 'ID': 'Idaho', 'AR': 'Arkansas', 'ME': 'Maine', 'WA': 'Washington', 'HI': 'Hawaii', 'WI': 'Wisconsin', 'MI': 'Michigan', 'IN': 'Indiana', 'NJ': 'New Jersey', 'AZ': 'Arizona', 'GU': 'Guam', 'MS': 'Mississippi', 'PR': 'Puerto Rico', 'NC': 'North Carolina', 'TX': 'Texas', 'SD': 'South Dakota', 'MP': 'Northern Mariana Islands', 'IA': 'Iowa', 'MO': 'Missouri', 'CT': 'Connecticut', 'WV': 'West Virginia', 'SC': 'South Carolina', 'LA': 'Louisiana', 'KS': 'Kansas', 'NY': 'New York', 'NE': 'Nebraska', 'OK': 'Oklahoma', 'FL': 'Florida', 'CA': 'California', 'CO': 'Colorado', 'PA': 'Pennsylvania', 'DE': 'Delaware', 'NM': 'New Mexico', 'RI': 'Rhode Island', 'MN': 'Minnesota', 'VI': 'Virgin Islands', 'NH': 'New Hampshire', 'MA': 'Massachusetts', 'GA': 'Georgia', 'ND': 'North Dakota', 'VA': 'Virginia'}"
   ]
  },
  {
   "cell_type": "code",
   "execution_count": 5,
   "metadata": {},
   "outputs": [],
   "source": [
    "def get_list_of_university_towns():\n",
    "    '''Returns a DataFrame of towns and the states they are in from the \n",
    "    university_towns.txt list. The format of the DataFrame should be:\n",
    "    DataFrame( [ [\"Michigan\", \"Ann Arbor\"], [\"Michigan\", \"Yipsilanti\"] ], \n",
    "    columns=[\"State\", \"RegionName\"]  )\n",
    "    \n",
    "    The following cleaning needs to be done:\n",
    "\n",
    "    1. For \"State\", removing characters from \"[\" to the end.\n",
    "    2. For \"RegionName\", when applicable, removing every character from \" (\" to the end.\n",
    "    3. Depending on how you read the data, you may need to remove newline character '\\n'. '''\n",
    "    \n",
    "    uni_towns = pd.read_csv(\"university_towns.txt\",delimiter=\"\\n\",  header = None)\n",
    "    uni_towns = uni_towns.rename(columns= {uni_towns.columns[0]:\"State/reg\"})\n",
    "    uni_towns[\"IsState\"] = list(map(lambda x: x.find(\"[edit]\")!=-1,uni_towns[\"State/reg\"]))\n",
    "    uni_towns[\"State\"] = None\n",
    "    uni_towns[\"RegionName\"] = None\n",
    "    uni_towns.loc[uni_towns[\"IsState\"],\"State\"] = list(map(lambda x: x.split(\"[\")[0], uni_towns.loc[uni_towns[\"IsState\"],\"State/reg\"]))\n",
    "    uni_towns.loc[uni_towns[\"IsState\"]==False,\"RegionName\"] = list(map(lambda x: x.split(\" (\")[0], uni_towns.loc[uni_towns[\"IsState\"]==False,\"State/reg\"]))\n",
    "    uni_towns[\"State\"].ffill(inplace=True)\n",
    "    uni_towns.drop(uni_towns.index[uni_towns[\"IsState\"]==True], inplace=True)\n",
    "    uni_towns.reset_index(inplace=True, drop=True)\n",
    "    \n",
    "    return  uni_towns[[\"State\",\"RegionName\"]]\n",
    "\n",
    "# get_list_of_university_towns()"
   ]
  },
  {
   "cell_type": "code",
   "execution_count": 7,
   "metadata": {},
   "outputs": [],
   "source": [
    "gdp_lev = pd.read_excel(\"gdplev.xls\",skiprows=5)\n",
    "gdp_lev.drop(gdp_lev.index[0:2],inplace=True)\n",
    "gdp_lev.reset_index(inplace=True)\n",
    "gdp_lev = (gdp_lev.drop([\"index\",'Unnamed: 0', 'GDP in billions of current dollars','GDP in billions of chained 2009 dollars', \n",
    "                       'Unnamed: 3', 'GDP in billions of current dollars.1','Unnamed: 7'],axis=1))\n",
    "gdp_lev.rename(columns={\"Unnamed: 4\" : \"YearQ\", \"GDP in billions of chained 2009 dollars.1\":\"GDP\"},inplace=True)\n",
    "good_ind = gdp_lev.index[gdp_lev[\"YearQ\"]==\"2000q1\"][0]\n",
    "gdp_lev = gdp_lev.iloc[gdp_lev.index[gdp_lev[\"YearQ\"]==\"2000q1\"][0]:,:]\n",
    "gdp_lev.reset_index(drop=True,inplace=True)\n"
   ]
  },
  {
   "cell_type": "code",
   "execution_count": 8,
   "metadata": {},
   "outputs": [],
   "source": [
    "def find_init_fin_indexes():\n",
    "    GDP_info = gdp_lev[\"GDP\"].copy()\n",
    "\n",
    "    first_diff = np.diff(GDP_info)\n",
    "    second_diff = np.roll(first_diff,-1)\n",
    "    init_aux = np.where(((first_diff<0) & (second_diff<0)))[0].astype(int)\n",
    "    fin_aux = np.where(((first_diff>0) & (second_diff>0)))[0].astype(int)\n",
    "    fin_aux = fin_aux + 2 \n",
    "    rec_init = [init_aux[0]]\n",
    "    good_elements = np.where(fin_aux>=init_aux[0])\n",
    "    fin_aux = fin_aux[good_elements]\n",
    "    rec_fin = [fin_aux[0]]\n",
    "\n",
    "    while rec_fin[-1] <= init_aux[-1]:\n",
    "        recc = np.where((init_aux - rec_fin[-1]) > 0)\n",
    "        rec_init.append(init_aux[recc[0][0]])\n",
    "        finn = np.where((fin_aux - rec_init[-1]) > 0)\n",
    "        rec_fin.append(fin_aux[finn[0][0]])\n",
    "    return rec_init, rec_fin\n",
    "rec_init, rec_fin = find_init_fin_indexes()\n"
   ]
  },
  {
   "cell_type": "code",
   "execution_count": 9,
   "metadata": {},
   "outputs": [
    {
     "data": {
      "text/plain": [
       "33    2008q2\n",
       "Name: YearQ, dtype: object"
      ]
     },
     "execution_count": 9,
     "metadata": {},
     "output_type": "execute_result"
    }
   ],
   "source": [
    "def get_recession_start():\n",
    "    '''Returns the year and quarter of the recession start time as a \n",
    "    string value in a format such as 2005q3'''\n",
    "    \n",
    "    init_indexes = find_init_fin_indexes()[0]\n",
    "    \n",
    "    return gdp_lev.loc[init_indexes, \"YearQ\"]\n",
    "\n",
    "get_recession_start()"
   ]
  },
  {
   "cell_type": "code",
   "execution_count": 10,
   "metadata": {},
   "outputs": [
    {
     "data": {
      "text/plain": [
       "39    2009q4\n",
       "Name: YearQ, dtype: object"
      ]
     },
     "execution_count": 10,
     "metadata": {},
     "output_type": "execute_result"
    }
   ],
   "source": [
    "def get_recession_end():\n",
    "    '''Returns the year and quarter of the recession end time as a \n",
    "    string value in a format such as 2005q3'''\n",
    "    \n",
    "    fin_indexes = find_init_fin_indexes()[1]\n",
    "    return gdp_lev.loc[fin_indexes, \"YearQ\"]\n",
    "get_recession_end()"
   ]
  },
  {
   "cell_type": "code",
   "execution_count": 11,
   "metadata": {},
   "outputs": [
    {
     "data": {
      "text/plain": [
       "37.0    2009q2\n",
       "Name: YearQ, dtype: object"
      ]
     },
     "execution_count": 11,
     "metadata": {},
     "output_type": "execute_result"
    }
   ],
   "source": [
    "def get_recession_bottom():\n",
    "    '''Returns the year and quarter of the recession bottom time as a \n",
    "    string value in a format such as 2005q3'''\n",
    "    GDP_info = gdp_lev[\"GDP\"].copy()\n",
    "    init_indexes, fin_indexes = find_init_fin_indexes()\n",
    "    bottom_indexes = np.zeros(np.array(init_indexes).shape)\n",
    "    for period in range(len(bottom_indexes)):\n",
    "        bottom_indexes[period] =  GDP_info[init_indexes[period]:fin_indexes[period]].idxmin()\n",
    "    return gdp_lev.loc[bottom_indexes,\"YearQ\"]\n",
    "get_recession_bottom()"
   ]
  },
  {
   "cell_type": "code",
   "execution_count": 12,
   "metadata": {},
   "outputs": [],
   "source": [
    "def convert_housing_data_to_quarters():\n",
    "    '''Converts the housing data to quarters and returns it as mean \n",
    "    values in a dataframe. This dataframe should be a dataframe with\n",
    "    columns for 2000q1 through 2016q3, and should have a multi-index\n",
    "    in the shape of [\"State\",\"RegionName\"].\n",
    "    \n",
    "    Note: Quarters are defined in the assignment description, they are\n",
    "    not arbitrary three month periods.\n",
    "    \n",
    "    The resulting dataframe should have 67 columns, and 10,730 rows.'''\n",
    "    \n",
    "\n",
    "    all_homes = pd.read_csv(\"City_Zhvi_AllHomes.csv\")\n",
    "    all_homes.set_index([\"State\",\"RegionName\"],inplace=True)\n",
    "    years_to_keep = [\"{}-{}\".format(i,str(j).zfill(2)) for i in range(2000,2017) for j in range(1,13)]\n",
    "    all_homes = all_homes.loc[:,years_to_keep[:-4]]\n",
    "    new_col_names = np.repeat([\"{}q{}\".format(i,j) for i in range(2000, 2017) for j in range(1,5)],3)\n",
    "    all_homes = all_homes.rename(columns = dict(zip(all_homes.columns[:], new_col_names[:-4])))\n",
    "    all_homes = all_homes.groupby(by=all_homes.columns, axis=1).mean()\n",
    "    all_homes.sort_index(inplace=True)\n",
    "    return all_homes\n",
    "\n",
    "only_useful_homes = convert_housing_data_to_quarters()\n",
    "# only_useful_homes"
   ]
  },
  {
   "cell_type": "code",
   "execution_count": 13,
   "metadata": {},
   "outputs": [],
   "source": [
    "def get_uni_town_acro_merged():\n",
    "    states = {'OH': 'Ohio', 'KY': 'Kentucky', 'AS': 'American Samoa', 'NV': 'Nevada', 'WY': 'Wyoming', 'NA': 'National', 'AL': 'Alabama', 'MD': 'Maryland', 'AK': 'Alaska', 'UT': 'Utah', 'OR': 'Oregon', 'MT': 'Montana', 'IL': 'Illinois', 'TN': 'Tennessee', 'DC': 'District of Columbia', 'VT': 'Vermont', 'ID': 'Idaho', 'AR': 'Arkansas', 'ME': 'Maine', 'WA': 'Washington', 'HI': 'Hawaii', 'WI': 'Wisconsin', 'MI': 'Michigan', 'IN': 'Indiana', 'NJ': 'New Jersey', 'AZ': 'Arizona', 'GU': 'Guam', 'MS': 'Mississippi', 'PR': 'Puerto Rico', 'NC': 'North Carolina', 'TX': 'Texas', 'SD': 'South Dakota', 'MP': 'Northern Mariana Islands', 'IA': 'Iowa', 'MO': 'Missouri', 'CT': 'Connecticut', 'WV': 'West Virginia', 'SC': 'South Carolina', 'LA': 'Louisiana', 'KS': 'Kansas', 'NY': 'New York', 'NE': 'Nebraska', 'OK': 'Oklahoma', 'FL': 'Florida', 'CA': 'California', 'CO': 'Colorado', 'PA': 'Pennsylvania', 'DE': 'Delaware', 'NM': 'New Mexico', 'RI': 'Rhode Island', 'MN': 'Minnesota', 'VI': 'Virgin Islands', 'NH': 'New Hampshire', 'MA': 'Massachusetts', 'GA': 'Georgia', 'ND': 'North Dakota', 'VA': 'Virginia'}\n",
    "    states_acronyms = pd.DataFrame(states,index=[\"FullName\"]).T\n",
    "    states_acronyms\n",
    "    states_acronyms[\"State\"] = states_acronyms.index\n",
    "    states_acronyms.set_index(\"FullName\",inplace=True)\n",
    "    states_acronyms.sort_index(inplace=True)\n",
    "    uni_towns = get_list_of_university_towns()\n",
    "    uni_towns.set_index(\"State\",inplace=True)\n",
    "    uni_towns.index.rename(\"FulName\",inplace=True)\n",
    "    uni_towns.sort_index(inplace=True)\n",
    "    uni_towns_merged_acro = pd.merge(uni_towns,states_acronyms,how=\"right\",left_index=True, right_index=True)\n",
    "    uni_towns_merged_acro.set_index([\"State\",\"RegionName\"],inplace=True)\n",
    "    uni_towns_merged_acro[\"isUniTown\"]=True\n",
    "    uni_towns_merged_acro.sort_values(by=\"State\",inplace=True)\n",
    "    return uni_towns_merged_acro\n",
    "    \n",
    "uni_towns_merged_acro = get_uni_town_acro_merged()\n",
    "# uni_towns_merged_acro"
   ]
  },
  {
   "cell_type": "code",
   "execution_count": 14,
   "metadata": {},
   "outputs": [
    {
     "data": {
      "text/plain": [
       "(True, 0.002724063704761164, 'non-university town')"
      ]
     },
     "execution_count": 14,
     "metadata": {},
     "output_type": "execute_result"
    }
   ],
   "source": [
    "def run_ttest():\n",
    "    '''First creates new data showing the decline or growth of housing prices\n",
    "    between the recession start and the recession bottom. Then runs a ttest\n",
    "    comparing the university town values to the non-university towns values, \n",
    "    return whether the alternative hypothesis (that the two groups are the same)\n",
    "    is true or not as well as the p-value of the confidence. \n",
    "    \n",
    "    Return the tuple (different, p, better) where different=True if the t-test is\n",
    "    True at a p<0.01 (we reject the null hypothesis), or different=False if \n",
    "    otherwise (we cannot reject the null hypothesis). The variable p should\n",
    "    be equal to the exact p value returned from scipy.stats.ttest_ind(). The\n",
    "    value for better should be either \"university town\" or \"non-university town\"\n",
    "    depending on which has a lower mean price ratio (which is equivilent to a\n",
    "    reduced market loss).'''\n",
    "    \n",
    "    only_useful_homes = convert_housing_data_to_quarters()\n",
    "    recession_start =  list((set(get_recession_start()).intersection(set(only_useful_homes.columns))))\n",
    "    recession_bottom = list(set(get_recession_bottom()).intersection(set(only_useful_homes.columns)))\n",
    "    only_useful_homes = only_useful_homes.loc[:,recession_start +recession_bottom ]\n",
    "    only_useful_homes[\"RatioStartBottom\"] = only_useful_homes.apply(lambda x : x[recession_start[0]]/x[recession_bottom[0]],axis =1)\n",
    "    ratioStartBottom = only_useful_homes.sort_index()\n",
    "    \n",
    "    uni_towns_merged_acro = get_uni_town_acro_merged()\n",
    "    merged_ratio_uni = pd.merge(ratioStartBottom,uni_towns_merged_acro,how=\"outer\",left_on =[\"State\",\"RegionName\"], right_on=[\"State\",\"RegionName\"])\n",
    "    merged_ratio_uni.sort_values(by=[\"State\",\"RegionName\"],inplace=True)\n",
    "    merged_ratio_uni = merged_ratio_uni.loc[~np.isnan(merged_ratio_uni[\"RatioStartBottom\"])]\n",
    "\n",
    "    merged_ratio_uni[\"isUniTown\"].fillna(False,inplace=True)\n",
    "\n",
    "    dataset_unitowns = merged_ratio_uni.loc[merged_ratio_uni[\"isUniTown\"]==True,\"RatioStartBottom\"]\n",
    "    dataset_nonunitowns = merged_ratio_uni.loc[merged_ratio_uni[\"isUniTown\"] == False,\"RatioStartBottom\"]\n",
    "\n",
    "    \n",
    "    ttest_stat, tt_pval = stats.ttest_ind(dataset_nonunitowns, dataset_unitowns)\n",
    "    alpha = 0.01\n",
    "    # much larger p than alpha - > cannot reject null hypothesis\n",
    "    different = (tt_pval < alpha)\n",
    "    \n",
    "    better = \"university town\"\n",
    "    if dataset_nonunitowns.mean()  > dataset_unitowns.mean():\n",
    "        better = \"non-university town\"\n",
    "      \n",
    "    return (different, tt_pval, better)\n",
    "\n",
    "different, p, better = run_ttest()\n",
    "(different, p, better)\n"
   ]
  }
 ],
 "metadata": {
  "coursera": {
   "course_slug": "python-data-analysis",
   "graded_item_id": "Il9Fx",
   "launcher_item_id": "TeDW0",
   "part_id": "WGlun"
  },
  "kernelspec": {
   "display_name": "Python 3",
   "language": "python",
   "name": "python3"
  },
  "language_info": {
   "codemirror_mode": {
    "name": "ipython",
    "version": 3
   },
   "file_extension": ".py",
   "mimetype": "text/x-python",
   "name": "python",
   "nbconvert_exporter": "python",
   "pygments_lexer": "ipython3",
   "version": "3.7.3"
  }
 },
 "nbformat": 4,
 "nbformat_minor": 2
}
